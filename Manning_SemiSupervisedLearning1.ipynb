{
  "nbformat": 4,
  "nbformat_minor": 0,
  "metadata": {
    "colab": {
      "name": "Manning_SemiSupervisedLearning1.ipynb",
      "provenance": [],
      "collapsed_sections": []
    },
    "kernelspec": {
      "name": "python3",
      "display_name": "Python 3"
    },
    "language_info": {
      "name": "python"
    },
    "accelerator": "GPU"
  },
  "cells": [
    {
      "cell_type": "code",
      "execution_count": null,
      "metadata": {
        "colab": {
          "base_uri": "https://localhost:8080/"
        },
        "id": "z9s7-wmkmkGx",
        "outputId": "b0caedea-4b4e-476c-c834-0b18ce78aceb"
      },
      "outputs": [
        {
          "output_type": "stream",
          "name": "stdout",
          "text": [
            "Found GPU at: /device:GPU:0\n"
          ]
        }
      ],
      "source": [
        "%tensorflow_version 2.x\n",
        "import tensorflow as tf\n",
        "device_name = tf.test.gpu_device_name()\n",
        "if device_name != '/device:GPU:0':\n",
        "  raise SystemError('GPU device not found')\n",
        "print('Found GPU at: {}'.format(device_name))"
      ]
    },
    {
      "cell_type": "markdown",
      "source": [
        "# Setting up image pipeline\n"
      ],
      "metadata": {
        "id": "WPZ8oPQ8nKYE"
      }
    },
    {
      "cell_type": "code",
      "source": [
        "# download dataset\n",
        "IMAGES_DIR = '/content/data'\n",
        "try:\n",
        "  os.makedirs(IMAGES_DIR)\n",
        "except:\n",
        "  print('Already exists')\n",
        "\n",
        "tf.keras.utils.get_file(\"MelanomaDetection.zip\",\"https://lp-prod-resources.s3.amazonaws.com/278/45149/2021-02-19-19-47-43/MelanomaDetection.zip\", extract=True)"
      ],
      "metadata": {
        "colab": {
          "base_uri": "https://localhost:8080/",
          "height": 53
        },
        "id": "9xI258M-nMjP",
        "outputId": "828d1482-c608-401e-d8d4-a342e0693cad"
      },
      "execution_count": null,
      "outputs": [
        {
          "output_type": "stream",
          "name": "stdout",
          "text": [
            "Already exists\n"
          ]
        },
        {
          "output_type": "execute_result",
          "data": {
            "text/plain": [
              "'/root/.keras/datasets/MelanomaDetection.zip'"
            ],
            "application/vnd.google.colaboratory.intrinsic+json": {
              "type": "string"
            }
          },
          "metadata": {},
          "execution_count": 33
        }
      ]
    },
    {
      "cell_type": "code",
      "source": [
        "import matplotlib.pyplot as plt\n",
        "import pandas as pd\n",
        "import torch\n",
        "from torch.utils.data import DataLoader\n",
        "from torchvision.io import read_image\n",
        "import torchvision.transforms as T\n",
        "import cv2\n",
        "from keras.preprocessing.image import  img_to_array\n",
        "from glob import glob\n",
        "import os\n",
        "from tqdm.notebook import tqdm"
      ],
      "metadata": {
        "id": "N7dkZf8tpSh7"
      },
      "execution_count": null,
      "outputs": []
    },
    {
      "cell_type": "code",
      "source": [
        "!mv ~/.keras/datasets/MelanomaDetection/ ./data "
      ],
      "metadata": {
        "colab": {
          "base_uri": "https://localhost:8080/"
        },
        "id": "c7wni7gAoK43",
        "outputId": "a1976088-ad56-426e-80d4-3aff84e41dba"
      },
      "execution_count": null,
      "outputs": [
        {
          "output_type": "stream",
          "name": "stdout",
          "text": [
            "mv: cannot move '/root/.keras/datasets/MelanomaDetection/' to './data/MelanomaDetection': Directory not empty\n"
          ]
        }
      ]
    },
    {
      "cell_type": "code",
      "source": [
        "class UnlabeledImagesDataSet(torch.utils.data.Dataset):\n",
        "  def __init__(self, dir_path, transform=None):\n",
        "      super(UnlabeledImagesDataSet, self).__init__()\n",
        "      self.path = dir_path\n",
        "      self.transform = transform     \n",
        "      self.files = glob(os.path.join(self.path,'*.jpg'), recursive=True)  \n",
        "  def __len__(self):\n",
        "    return len(self.files)\n",
        "\n",
        "  def __getitem__(self,i):\n",
        "    img_path =self.files[i]\n",
        "    image = read_image(img_path)   \n",
        "    return (image,0)\n"
      ],
      "metadata": {
        "id": "TQ8XKSS1oQGd"
      },
      "execution_count": null,
      "outputs": []
    },
    {
      "cell_type": "code",
      "source": [
        "class LabeledImagesDataSet(torch.utils.data.Dataset):\n",
        "  def __init__(self, dir_path, transform=None):\n",
        "      super(LabeledImagesDataSet, self).__init__()\n",
        "      self.path = dir_path\n",
        "      self.transform = transform\n",
        "      self.data = []    \n",
        "      self.labels = []\n",
        "      self.files = glob(os.path.join(self.path,'*.jpg'), recursive=True)    \n",
        "  def __len__(self):\n",
        "    return len(self.files)\n",
        "\n",
        "  def __getitem__(self,i):\n",
        "        img_path =self.files[i]\n",
        "        image = read_image(img_path)\n",
        "        label = 0\n",
        "        if \"_1.jpg\" in img_path:\n",
        "          label = 1        \n",
        "        return (image,label)"
      ],
      "metadata": {
        "id": "b3aGzwIkpu00"
      },
      "execution_count": null,
      "outputs": []
    },
    {
      "cell_type": "code",
      "source": [
        "data_folder = \"./data/MelanomaDetection\"\n",
        "labeledDS = LabeledImagesDataSet(os.path.join(data_folder, 'labeled'))"
      ],
      "metadata": {
        "id": "9QJTVAwOtpYV"
      },
      "execution_count": null,
      "outputs": []
    },
    {
      "cell_type": "code",
      "source": [
        "dataloader = DataLoader(labeledDS, batch_size=4,\n",
        "                        shuffle=True, num_workers=0)"
      ],
      "metadata": {
        "id": "Uamdj8F6y2re"
      },
      "execution_count": null,
      "outputs": []
    },
    {
      "cell_type": "code",
      "source": [
        "unlabeledDS = UnlabeledImagesDataSet(os.path.join(data_folder,'unlabeled'))"
      ],
      "metadata": {
        "id": "IFkKHYczz85r"
      },
      "execution_count": null,
      "outputs": []
    },
    {
      "cell_type": "code",
      "source": [
        "unlabeledDataLoader = DataLoader(unlabeledDS, batch_size=4, shuffle=True, num_workers=0)"
      ],
      "metadata": {
        "id": "9muZvCXs0UBL"
      },
      "execution_count": null,
      "outputs": []
    },
    {
      "cell_type": "code",
      "source": [
        "def showBatch(dl):\n",
        "  fig,ax = plt.subplots(2,2)\n",
        "  for i_batch, sample_batched in enumerate(dl):  \n",
        "      for ix, sample in enumerate(sample_batched):   \n",
        "        print(sample.shape)   \n",
        "        img = T.ToPILImage()(sample[0])\n",
        "        ax[0,0].imshow(img)\n",
        "        img = T.ToPILImage()(sample[1])\n",
        "        ax[0,1].imshow(img)\n",
        "        img = T.ToPILImage()(sample[2])\n",
        "        ax[1,0].imshow(img)\n",
        "        img = T.ToPILImage()(sample[3])\n",
        "        ax[1,1].imshow(img)\n",
        "      \n",
        "        break\n",
        "      break\n",
        "  plt.show()    \n",
        "\n",
        "    "
      ],
      "metadata": {
        "id": "Ls_0Hu1nzQgl"
      },
      "execution_count": null,
      "outputs": []
    },
    {
      "cell_type": "code",
      "source": [
        "showBatch(dataloader)"
      ],
      "metadata": {
        "colab": {
          "base_uri": "https://localhost:8080/",
          "height": 285
        },
        "id": "DTHsj4LKwkze",
        "outputId": "52d73bac-11d0-474a-c100-693f8b579163"
      },
      "execution_count": null,
      "outputs": [
        {
          "output_type": "stream",
          "name": "stdout",
          "text": [
            "torch.Size([4, 3, 32, 32])\n"
          ]
        },
        {
          "output_type": "display_data",
          "data": {
            "text/plain": [
              "<Figure size 432x288 with 4 Axes>"
            ],
            "image/png": "[encoded data removed]"
          },
          "metadata": {
            "needs_background": "light"
          }
        }
      ]
    },
    {
      "cell_type": "code",
      "source": [
        "showBatch(unlabeledDataLoader)"
      ],
      "metadata": {
        "colab": {
          "base_uri": "https://localhost:8080/",
          "height": 285
        },
        "id": "ploJqxCkyJQV",
        "outputId": "5ae13647-c2ae-430f-ee30-1df7cc06ddc5"
      },
      "execution_count": null,
      "outputs": [
        {
          "output_type": "stream",
          "name": "stdout",
          "text": [
            "torch.Size([4, 3, 32, 32])\n"
          ]
        },
        {
          "output_type": "display_data",
          "data": {
            "text/plain": [
              "<Figure size 432x288 with 4 Axes>"
            ],
            "image/png": "[encoded data removed]"
          },
          "metadata": {
            "needs_background": "light"
          }
        }
      ]
    },
    {
      "cell_type": "markdown",
      "source": [
        "Transformations and pre-preprocessing\n",
        "\n",
        "\n",
        "*   Normalisation of pixel intensities\n",
        "*   Convert colour to grayscale\n",
        "*   Augmentation can include\n",
        " *  Rotation\n",
        " *  Skewing \n",
        "\n"
      ],
      "metadata": {
        "id": "ELP7OcrwEWzY"
      }
    },
    {
      "cell_type": "code",
      "source": [
        ""
      ],
      "metadata": {
        "id": "wS61umC70Ph1"
      },
      "execution_count": null,
      "outputs": []
    }
  ]
}